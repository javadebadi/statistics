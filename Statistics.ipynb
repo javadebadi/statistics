{
 "cells": [
  {
   "cell_type": "markdown",
   "metadata": {},
   "source": [
    "# Statistics Lecture Notes \n",
    "### Javad Ebadi\n",
    "### IPM"
   ]
  },
  {
   "cell_type": "code",
   "execution_count": 1,
   "metadata": {},
   "outputs": [
    {
     "name": "stdout",
     "output_type": "stream",
     "text": [
      "Welcome to JupyROOT 6.10/08\n",
      "course object is created!\n"
     ]
    }
   ],
   "source": [
    "from statistics_utils import Statistics_utils\n",
    "import matplotlib.pyplot as plt\n",
    "import numpy as np\n",
    "import pandas as pd\n",
    "import seaborn as sns\n",
    "import scipy as sp\n",
    "import ROOT\n",
    "from ROOT import TRandom3\n",
    "from ROOT import TH1D, TH1F, TH1I\n",
    "from ROOT import TCanvas\n",
    "course = Statistics_utils()"
   ]
  },
  {
   "cell_type": "markdown",
   "metadata": {},
   "source": [
    "## Contents:\n",
    "* [Basics of Probability](#basics_of_probability)\n",
    "* [Distributions](#distributions)\n",
    "* [Law of large numbers (LLN)](#law_of_large_numbers)\n",
    "* [Sample mean and sample variance](#sample_mean_and_sample_variance)\n",
    "* [P-value](#p-value)"
   ]
  },
  {
   "cell_type": "markdown",
   "metadata": {},
   "source": [
    "## Basics of Probability <a class=\"anchor\" id=\"basics_of_probability\"></a>\n",
    "* [Basics](#basics_of_probability_basics)"
   ]
  },
  {
   "cell_type": "markdown",
   "metadata": {},
   "source": [
    "### Basics <a class=\"anchor\" id=\"basics_of_probability_basics\"></a>"
   ]
  },
  {
   "cell_type": "markdown",
   "metadata": {},
   "source": [
    "#### Sample Spaces\n",
    "Probability theory studies experiments in which the outcome of experiment occurs randomly.<br>\n",
    "The set of all possible outcomes of an experiment is called <strong>sample space</strong> and denoted by $\\Omega$. A subset of $\\Omega$; is called an <strong>event</strong>.\n",
    "##### Exe.\n",
    "We through a coin 3 times. What are the experiment, sample space, and events?\n",
    "##### ans. ..."
   ]
  },
  {
   "cell_type": "markdown",
   "metadata": {},
   "source": [
    "#### Probability Measures\n",
    "A probability measure on $\\Omega$ is a function $P$ from subsets of $\\Omega$ to the real numbers that satisfies the following axioms:<br>\n",
    "$$\n",
    " P (\\Omega) = 1\n",
    "$$\n",
    "$$\n",
    "\\quad A \\subset \\Omega \\Rightarrow P(A) \\geq 0\n",
    "$$\n",
    "$$\n",
    "A_1 \\cap A_2 = 0 \\Rightarrow P (A_1 \\cup A_2 ) = P (A_1 ) + P (A_2 ).\n",
    "$$\n",
    "Properties of the measure are\n",
    "1. If $A^c$ is complement of $A$, then $P (A^c ) = 1 - P (A)$.<br>\n",
    "2. If $A_1 \\subset A_2$ , then $P (A_1 ) < P (A_2 )$.</br>\n",
    "3. If $A_1$ and $A_2$ are 2 events, then\n",
    "$P (A_1 ∪ A_2 ) = P (A_1 ) + P (A_2 ) - P (A_1 \\cap A_2 )$.<br>"
   ]
  },
  {
   "cell_type": "markdown",
   "metadata": {},
   "source": [
    "## Distributions <a class=\"anchor\" id=\"distributions\"></a>\n",
    "* [Bernoulli distribution](#distributions_bernoulli_distribution)\n",
    "* [Binomial distribution](#distributions_binomial_distribution)\n",
    "* [Poisson distribution](#distributions_poisson_distribution)"
   ]
  },
  {
   "cell_type": "markdown",
   "metadata": {},
   "source": [
    "### Bernoulli Distribution <a class=\"anchor\" id=\"distributions_bernoulli_distribution\"></a>\n",
    "A Bernoulli random variable defined as \n",
    "<br>\n",
    "$$\n",
    "P(X = x) = p^x (1-p)^{1-x} \\quad \\text{where} \\quad 0<p<1 \\hspace{0.1cm}\\text{and}\\hspace{0.1cm} (x=0 \\hspace{0.1cm}\\text{or}\\hspace{0.1cm} x=1)\n",
    "$$"
   ]
  },
  {
   "cell_type": "markdown",
   "metadata": {},
   "source": [
    "### Binomial Distribution <a class=\"anchor\" id=\"distributions_binomial_distribution\"></a>\n",
    "Suppose that you run $n$ independent experiments or <strong>trials</strong>. In each trial, there is a probability of <strong>success</strong> equal to $p$ and <strong>not success</strong> equal to $1-p$. The number of successes among these $n$ trails is a random variable $X$ which obeys <strong>bionomial distribution</strong>.\n",
    "<br>\n",
    "<br>\n",
    "$$\n",
    "P(X = k) = \\begin{pmatrix}n \\\\ k\\end{pmatrix} p^k (1-p)^{1-k}\n",
    "$$\n",
    "<br>\n",
    "\n",
    "Let $X_1 , X_2 , ... , X_n$ be independent Bernoulli random variables with $p(X_i = 1) = p$.\n",
    "Then $Y = X_1 + X_2 + ... + X_n$ is a binomial random variable.\n",
    "\n",
    "# ==================================================\n",
    "##### Example\n",
    "Suppose that you have a strange coin which comes head with probablity $p = 1/4$ each time you toss it. If you toss the coin 40 times and repeat this experiment 100000 times, the distirbtuion of total number of heads will be like this histogram:"
   ]
  },
  {
   "cell_type": "code",
   "execution_count": 2,
   "metadata": {},
   "outputs": [
    {
     "data": {
      "text/plain": [
       "(array([1.33000e+02, 8.43000e+02, 3.68400e+03, 1.13010e+04, 8.00990e+04,\n",
       "        8.56490e+04, 1.17956e+05, 1.39420e+05, 2.75322e+05, 1.05878e+05,\n",
       "        7.64310e+04, 4.89880e+04, 4.27110e+04, 6.92000e+03, 2.90000e+03,\n",
       "        1.14100e+03, 5.71000e+02, 3.90000e+01, 1.00000e+01, 4.00000e+00]),\n",
       " array([ 0.  ,  1.25,  2.5 ,  3.75,  5.  ,  6.25,  7.5 ,  8.75, 10.  ,\n",
       "        11.25, 12.5 , 13.75, 15.  , 16.25, 17.5 , 18.75, 20.  , 21.25,\n",
       "        22.5 , 23.75, 25.  ]),\n",
       " <a list of 20 Patch objects>)"
      ]
     },
     "execution_count": 2,
     "metadata": {},
     "output_type": "execute_result"
    },
    {
     "data": {
      "image/png": "[encoded data removed]",
      "text/plain": [
       "<Figure size 432x288 with 1 Axes>"
      ]
     },
     "metadata": {
      "needs_background": "light"
     },
     "output_type": "display_data"
    }
   ],
   "source": [
    "np.random.seed(0)\n",
    "size = 1000000 #size of the sample (number of time repeated the whole experiment(toss the coin 40 times))\n",
    "p = 1.0/4 # success probability of a trail\n",
    "n = 40 # number of trails\n",
    "# sampling 100000 random samples from binomial distribution with n=40 , p=1/4\n",
    "data = np.array(np.random.binomial(n,p,size=size)) \n",
    "plt.figure(figsize=(6,4))\n",
    "plt.xlim([0,n])\n",
    "plt.hist(data,bins = n//2, color='lightgreen')"
   ]
  },
  {
   "cell_type": "markdown",
   "metadata": {},
   "source": [
    "In the below you see the same example but in ROOT (C++) code\n",
    "Warning: If the code cause error you need to restart the kernel, run the head of Jupyter-notebook and then run just  this block of cell below"
   ]
  },
  {
   "cell_type": "code",
   "execution_count": 3,
   "metadata": {},
   "outputs": [
    {
     "data": {
      "image/png": "[encoded data removed]",
      "text/plain": [
       "<IPython.core.display.Image object>"
      ]
     },
     "metadata": {},
     "output_type": "display_data"
    }
   ],
   "source": [
    "%%cpp\n",
    "void example_bernoulli(){\n",
    "    Int_t n    = 40;\n",
    "    Int_t size = 1000000;\n",
    "    Double_t p = 1.0/4;\n",
    "\n",
    "    TH1D     * h1      = new TH1D(\"Binomial\",\"Binomial\",n,0,n);\n",
    "    TCanvas  * c1      = new TCanvas(\"Binomial\",\"Binomial\",600,400);\n",
    "    TRandom3 * my_rand = new TRandom3();\n",
    "    \n",
    "    my_rand->SetSeed(0);\n",
    "    for(Int_t i=0; i<size; i++){\n",
    "        h1->Fill(my_rand->Binomial(n,p));\n",
    "    }\n",
    "    \n",
    "    c1->cd();\n",
    "    h1->SetFillColor(65);\n",
    "    h1->Draw();\n",
    "    c1->Draw();    \n",
    "    \n",
    "}\n",
    "example_bernoulli()"
   ]
  },
  {
   "cell_type": "markdown",
   "metadata": {},
   "source": [
    "In the below you see the same example but in PyROOT (C++) code. We wrote 3 type of code, in Python, C++, and PyROOT, but from now on, we will focus mostly on Python codes."
   ]
  },
  {
   "cell_type": "code",
   "execution_count": 4,
   "metadata": {},
   "outputs": [
    {
     "name": "stderr",
     "output_type": "stream",
     "text": [
      "Warning in <TROOT::Append>: Replacing existing TH1: Binomial (Potential memory leak).\n",
      "Warning in <TCanvas::Constructor>: Deleting canvas with same name: Binomial\n"
     ]
    },
    {
     "data": {
      "image/png": "[encoded data removed]",
      "text/plain": [
       "<IPython.core.display.Image object>"
      ]
     },
     "metadata": {},
     "output_type": "display_data"
    }
   ],
   "source": [
    "hist = TH1D(\"Binomial\",\"Binomial\",n//1,0,n)\n",
    "c = TCanvas(\"Binomial\",\"Binomial\",600,400)\n",
    "my_rand = TRandom3()\n",
    "my_rand.SetSeed(0)\n",
    "for i in xrange(0,size):\n",
    "    hist.Fill(my_rand.Binomial(n,p))\n",
    "c.cd()\n",
    "hist.SetFillColor(65)\n",
    "hist.Draw()\n",
    "c.Draw()"
   ]
  },
  {
   "cell_type": "markdown",
   "metadata": {},
   "source": [
    "# =================================================="
   ]
  },
  {
   "cell_type": "markdown",
   "metadata": {},
   "source": [
    "### Poisson distribution <a class=\"anchor\" id=\"distributions_poisson_distribution\"></a>"
   ]
  },
  {
   "cell_type": "markdown",
   "metadata": {},
   "source": [
    "## Law of large numbers (LLN)<a class=\"anchor\" id=\"law_of_large_numbers\"></a>\n"
   ]
  },
  {
   "cell_type": "markdown",
   "metadata": {},
   "source": [
    "## Sample mean and sample variance<a class=\"anchor\" id=\"sample_mean_and_sample_variance\"></a>\n",
    "\n",
    "Let $X_i$ for $i=1,...,N$ be iid random variables with poplulation mean $\\mu$. The sample mean \n",
    "$$\\bar{X}_N = \\frac{\\sum_{i=1}^N X_i}{N}$$\n",
    "is itself a random variable and thus has its own distirbution.\n",
    "\n",
    "The law of large numbers (LLN) states that the $\\bar{X}_N$ converges in probability to $\\mu$.\n",
    "In addition we know that the sample mean is an unbiased estimator of the population mean. Thus, we say that sample variance is an __unbiased__ and __consistent__ estimator of the population mean. \n",
    "\n",
    "# ==================================================\n",
    "##### Example\n",
    "In the below, we want to test the validity of LLN for sample mean. Suppose that you have a die and consider four experiments (4 smaple sizes) in which you roll the die 1,2,6 or 30 times and take the average. The distribution of sample mean for this simulation is shown here (assuming that die is fair):"
   ]
  },
  {
   "cell_type": "code",
   "execution_count": 6,
   "metadata": {},
   "outputs": [
    {
     "data": {
      "image/png": "[encoded data removed]",
      "text/plain": [
       "<Figure size 720x720 with 4 Axes>"
      ]
     },
     "metadata": {
      "needs_background": "light"
     },
     "output_type": "display_data"
    }
   ],
   "source": [
    "course.distributions_example_sample_mean_and_sample_variance_plot_for_die_samples(sizes=[1,2,6,30])"
   ]
  },
  {
   "cell_type": "markdown",
   "metadata": {},
   "source": [
    "##### conclusion:\n",
    "The distibution of sample mean for various values of $N$ are plotted in the above.\n",
    "As we see, with increasing the value of $N$ (sample size), the distribution of sample mean converges to population  mean which is 3.5"
   ]
  },
  {
   "cell_type": "markdown",
   "metadata": {},
   "source": [
    "# =================================================="
   ]
  },
  {
   "cell_type": "markdown",
   "metadata": {},
   "source": [
    "## P-value <a class=\"anchor\" id=\"p-value\"></a>"
   ]
  },
  {
   "cell_type": "markdown",
   "metadata": {},
   "source": [
    "Let us start with what me mean by <b>as or more extreme as</b>. \n",
    "The outcome $A$ is <strong>as or more extreme as</strong>  outcome $B$ if the probablity of happening $A$ is bigger than or equal to $B$, i.e.<br>\n",
    "<br>\n",
    "$$\n",
    "P(A) \\geq P(B) \\Rightarrow \\text{A is as or more extreme as B}\n",
    "$$\n",
    "<br>\n",
    "We want to know compute P-value, what we nood to know?\n",
    "<ul>\n",
    "    <li>test statistic: $t$</li>\n",
    "    <li>distribution of the test statistic under null hypothesis $H_0$</li>\n",
    "    <li>an observed value for $t$: $t_{obs}$</li>\n",
    "</ul>\n",
    "Now the <b>P-value</b> is the <b>probability</b> of obtaining <b>values for $t$ as extreme or more as $t_{obs}$</b> under <b>null hypothesis</b> assumption. "
   ]
  },
  {
   "cell_type": "markdown",
   "metadata": {},
   "source": [
    "# ==================================================\n",
    "##### Example\n",
    "Assume that we have a die with probability density of outcomes as follows (null-hypothesis):"
   ]
  },
  {
   "cell_type": "code",
   "execution_count": 2,
   "metadata": {},
   "outputs": [
    {
     "data": {
      "image/png": "[encoded data removed]",
      "text/plain": [
       "<Figure size 432x288 with 1 Axes>"
      ]
     },
     "metadata": {
      "needs_background": "light"
     },
     "output_type": "display_data"
    }
   ],
   "source": [
    "# a dictionry which contains probability of each outcome\n",
    "die = course.p_value_example_die_distiribution\n",
    "course.p_value_example_die_distiribution_plot()"
   ]
  },
  {
   "cell_type": "markdown",
   "metadata": {},
   "source": [
    "Assume that you have rolled the die and observed $t_{obs} = 5$.\n",
    "The P-value could be found using below code:"
   ]
  },
  {
   "cell_type": "code",
   "execution_count": 3,
   "metadata": {},
   "outputs": [
    {
     "name": "stdout",
     "output_type": "stream",
     "text": [
      "P value = 0.125\n"
     ]
    }
   ],
   "source": [
    "# code for p-value\n",
    "# test statitic (t): value of die after role\n",
    "p_value = 0 # a variable to store value of P-value\n",
    "t_obs = 5\n",
    "# YOU: change value of t_obs to find p-value for various possible outcomes\n",
    "\n",
    "for t in die:\n",
    "    if (die[t] <= die[str(t_obs)]):#checks that wheter the t_obs is as extreme or more as current t or not\n",
    "        p_value += die[t]\n",
    "print(\"P value = \"+str(p_value))"
   ]
  },
  {
   "cell_type": "markdown",
   "metadata": {},
   "source": [
    "# =================================================="
   ]
  },
  {
   "cell_type": "markdown",
   "metadata": {},
   "source": [
    "# ==================================================\n",
    "##### Example - P-value for normal distribution\n",
    "Assume that we have a random varible with normal distribution with mean=0 and std=1. You run an experiment and obtain value $t_{obs}= 5$. What is the P-value?"
   ]
  },
  {
   "cell_type": "code",
   "execution_count": 35,
   "metadata": {},
   "outputs": [
    {
     "name": "stdout",
     "output_type": "stream",
     "text": [
      "P-value = 5.733031438470704e-07\n"
     ]
    }
   ],
   "source": [
    "dist = sp.stats.norm(loc=0,scale=1) # define the distirbution (null-hypothesis)\n",
    "t_obs = 5\n",
    "p_value = 2*(1-dist.cdf(t_obs))\n",
    "print(\"P-value = \"+str(p_value))"
   ]
  },
  {
   "cell_type": "markdown",
   "metadata": {},
   "source": [
    "# =================================================="
   ]
  },
  {
   "cell_type": "markdown",
   "metadata": {},
   "source": [
    "#### How to interpret the P-value?\n",
    "When P-value is very small there are two possible interpretaion: \n",
    "<ul>\n",
    "    <li>null hypotheis is true and extremely rare event is happend</li>\n",
    "    <li>null hypothesis is false</li>\n",
    "</ul>"
   ]
  },
  {
   "cell_type": "markdown",
   "metadata": {},
   "source": [
    "#### How to reject null hypothesis using P-value?\n",
    "P-value will be computed after doing an experiment (having $t_{obs}$).<br>\n",
    "The significance level &alpha; is set to be some value like 0.05 by a person according to situation.<br>\n",
    "If P-value was less than &alpha; null hypothesis is rejected."
   ]
  },
  {
   "cell_type": "markdown",
   "metadata": {},
   "source": [
    "#### What is the role of alternative hypothesis in computing P-value?\n",
    "As far as I know, the only role the alternativae hypothesis could have in P-value computation is in choosing the appropriate test statistic $t$ which could give the most discrimimation power in deciding between null and alternative.\n"
   ]
  },
  {
   "cell_type": "markdown",
   "metadata": {},
   "source": [
    "# ==================================================\n",
    "##### Example - Discovery of Higgs boson in CMS\n",
    "In the below plot, the P-value for various masses of Higgs boson and the observation of LHC by CMS collaboration is shown. Observations rejects null hypothesis (SM without Higgs) and it favors alternative hypothesis (SM + Higgs) with a Higgs mass $m_H = 125 \\text{GeV}$. The dashed line is expection for P-value and the solid line is the combination of all decay channels of Higgs boson which is obtained using the LHC data.<br>\n",
    "<img src=\"p_value_Higgs_discovery_CMS.jpg\" width=\"600em\">\n",
    "\n",
    "Image is courtesy of https://www.sciencedirect.com/science/article/pii/S0370269312008581\n",
    "\n",
    "##### Exe.\n",
    "In this plot, in the left you see P-value and in the right axis you see $\\sigma$ values. How P-value corresponds to $\\sigma$? For example, as you see from above plot, the P-value of $~5\\times10^{-7}$ corresponds to $5 \\sigma$. Why?\n",
    "##### Hint.\n",
    "Look at example \"P-vlaue for normal distirbution\" above.\n"
   ]
  },
  {
   "cell_type": "markdown",
   "metadata": {},
   "source": [
    "# =================================================="
   ]
  },
  {
   "cell_type": "markdown",
   "metadata": {},
   "source": [
    "Conventions\n",
    "How to ####\n",
    "Example #####\n",
    "chapter ##\n",
    "section ###"
   ]
  },
  {
   "cell_type": "code",
   "execution_count": null,
   "metadata": {},
   "outputs": [],
   "source": []
  }
 ],
 "metadata": {
  "kernelspec": {
   "display_name": "Python 2",
   "language": "python",
   "name": "python2"
  },
  "language_info": {
   "codemirror_mode": {
    "name": "ipython",
    "version": 2
   },
   "file_extension": ".py",
   "mimetype": "text/x-python",
   "name": "python",
   "nbconvert_exporter": "python",
   "pygments_lexer": "ipython2",
   "version": "2.7.15"
  }
 },
 "nbformat": 4,
 "nbformat_minor": 2
}
