{
 "cells": [
  {
   "cell_type": "markdown",
   "metadata": {},
   "source": [
    "# Cheybyshev's inequality \n",
    "\n",
    "Let $X$ be a random varible with mean $\\mu$ and variance $\\sigma^2$. The Cheybyshev's inequality states that\n",
    "$$\n",
    "P(\\left|X-\\mu\\right| > k \\sigma ) \\leq \\frac{1}{k^2}\n",
    "$$\n",
    "\n",
    "For example, we can say for sure that the probability that a randomly chosen value from an arbitrary population, to be less than or bigger than $2\\sigma$ from the mean $\\mu$ is 25%."
   ]
  },
  {
   "cell_type": "markdown",
   "metadata": {},
   "source": [
    "In this lecture, we are going to verify the Cheybyshev's inequality numerically."
   ]
  },
  {
   "cell_type": "code",
   "execution_count": 112,
   "metadata": {},
   "outputs": [],
   "source": [
    "# import packages\n",
    "import numpy as np\n",
    "import pandas as pd"
   ]
  },
  {
   "cell_type": "code",
   "execution_count": 113,
   "metadata": {},
   "outputs": [],
   "source": [
    "def check_inside_interval(x=0.0, mean=0.0, sigma=1.0, k=1.0):\n",
    "    '''\n",
    "    A funtion that checks that wheter \"mean - k*sigma < x < mean + k*sigma is\" true or false\n",
    "    \n",
    "    '''\n",
    "    if (abs(x - mean) < k*sigma):\n",
    "        return True\n",
    "    else:\n",
    "        return False"
   ]
  },
  {
   "cell_type": "code",
   "execution_count": 114,
   "metadata": {},
   "outputs": [],
   "source": [
    "def check_Cheybyshev(data, mean=0.0, sigma=1.0, k=1.0):\n",
    "    '''\n",
    "    input: data, mean of the population of , std of the population, k= arbitary number (int usually)\n",
    "    output: checks that the sample of populaion respects Cheybyshev's inequality\n",
    "    \n",
    "    '''\n",
    "    total = data.shape[0]\n",
    "    check=[]\n",
    "    for item in data:\n",
    "        check.append(check_inside_interval(x=item, mean=mean, sigma=sigma, k=k))\n",
    "    check = np.asarray(check)\n",
    "    events_inside_the_interval = (1.0*check.sum())/total\n",
    "    events_outside_the_interval = 1.0-events_inside_the_interval\n",
    "    print(\"fraction of events in the sample outside of \"+str(k)+\"*sigma :\")\n",
    "    print(\"                    from simulation: \"+str(events_outside_the_interval))\n",
    "    #return events_outside_the_interval\n",
    "    print(\"fraction of events in the sample outside of \"+str(k)+\"*sigma that we expect\")\n",
    "    print(\"                    from Cheybyshev's inequality is at most: \"+str(1.0/k**2))\n",
    "    if (events_outside_the_interval < str(1.0/k**2)):\n",
    "        print(\"The Chebyshev's inequality is verified!\")\n",
    "    else:\n",
    "        print(\"The Chebyshev's inequality is NOT verified!\")\n",
    "    print(\"================================================\")\n",
    "        "
   ]
  },
  {
   "cell_type": "code",
   "execution_count": 115,
   "metadata": {},
   "outputs": [
    {
     "name": "stdout",
     "output_type": "stream",
     "text": [
      "fraction of events in the sample outside of 1*sigma :\n",
      "                    from simulation: 0.31245\n",
      "fraction of events in the sample outside of 1*sigma that we expect\n",
      "                    from Cheybyshev's inequality is at most: 1.0\n",
      "The Chebyshev's inequality is verified!\n",
      "================================================\n",
      "fraction of events in the sample outside of 2*sigma :\n",
      "                    from simulation: 0.04435\n",
      "fraction of events in the sample outside of 2*sigma that we expect\n",
      "                    from Cheybyshev's inequality is at most: 0.25\n",
      "The Chebyshev's inequality is verified!\n",
      "================================================\n",
      "fraction of events in the sample outside of 3*sigma :\n",
      "                    from simulation: 0.002\n",
      "fraction of events in the sample outside of 3*sigma that we expect\n",
      "                    from Cheybyshev's inequality is at most: 0.111111111111\n",
      "The Chebyshev's inequality is verified!\n",
      "================================================\n",
      "fraction of events in the sample outside of 4*sigma :\n",
      "                    from simulation: 0.0\n",
      "fraction of events in the sample outside of 4*sigma that we expect\n",
      "                    from Cheybyshev's inequality is at most: 0.0625\n",
      "The Chebyshev's inequality is verified!\n",
      "================================================\n",
      "fraction of events in the sample outside of 10*sigma :\n",
      "                    from simulation: 0.0\n",
      "fraction of events in the sample outside of 10*sigma that we expect\n",
      "                    from Cheybyshev's inequality is at most: 0.01\n",
      "The Chebyshev's inequality is verified!\n",
      "================================================\n"
     ]
    }
   ],
   "source": [
    "# We check for normal distirbution\n",
    "mean=1\n",
    "sigma=10\n",
    "data=np.random.normal(loc=mean, scale = sigma,size=20000)\n",
    "check_Cheybyshev(data, mean=mean, sigma=sigma, k=1)\n",
    "check_Cheybyshev(data, mean=mean, sigma=sigma, k=2)\n",
    "check_Cheybyshev(data, mean=mean, sigma=sigma, k=3)\n",
    "check_Cheybyshev(data, mean=mean, sigma=sigma, k=4)\n",
    "check_Cheybyshev(data, mean=mean, sigma=sigma, k=10)"
   ]
  },
  {
   "cell_type": "markdown",
   "metadata": {},
   "source": [
    "## Mathematical proof of Cheybyshev's inequality"
   ]
  },
  {
   "cell_type": "markdown",
   "metadata": {},
   "source": [
    "$$\n",
    "P(\\left|X-\\mu\\right| > k \\sigma ) = \\int_{\\left|X-\\mu\\right| > k \\sigma } f(x) dx = \n",
    "$$\n",
    "$$\n",
    "\\quad\\quad\\quad\\quad\\quad\\quad\\quad\\quad\\quad \\leq \\int_{\\left|X-\\mu\\right| > k \\sigma } \\frac{\\left|X-\\mu\\right|^2 }{k^2 \\sigma^2} f(x) dx \n",
    "$$\n",
    "$$\n",
    "\\quad\\quad\\quad\\quad\\quad\\quad\\quad\\quad \\leq \\int \\frac{\\left|X-\\mu\\right|^2 }{k^2 \\sigma^2} f(x) dx \n",
    "$$\n",
    "$$\n",
    "\\quad\\quad\\quad\\quad\\quad\\quad\\quad\\quad\\quad = \\frac{1}{k^2 \\sigma^2} \\int (X-\\mu)^2 f(x) dx \n",
    "$$\n",
    "$$\n",
    "\\quad\\quad\\quad\\quad\\quad\\quad\\quad\\quad = \\frac{1}{k^2 \\sigma^2} Var[X]  \\quad \\quad\n",
    "$$\n",
    "$$\n",
    "\\quad\\quad\\quad\\quad\\quad\\quad\\quad\\quad\\quad = \\frac{1}{k^2} \\quad \\quad \\quad \\quad \\quad\n",
    "$$"
   ]
  }
 ],
 "metadata": {
  "kernelspec": {
   "display_name": "Python 2",
   "language": "python",
   "name": "python2"
  },
  "language_info": {
   "codemirror_mode": {
    "name": "ipython",
    "version": 2
   },
   "file_extension": ".py",
   "mimetype": "text/x-python",
   "name": "python",
   "nbconvert_exporter": "python",
   "pygments_lexer": "ipython2",
   "version": "2.7.15"
  }
 },
 "nbformat": 4,
 "nbformat_minor": 2
}
