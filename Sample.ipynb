{
 "cells": [
  {
   "cell_type": "markdown",
   "metadata": {},
   "source": [
    "# Sample Class\n",
    "a class that computes the sample mean and sample variance of an observation of"
   ]
  },
  {
   "cell_type": "code",
   "execution_count": 19,
   "metadata": {},
   "outputs": [],
   "source": [
    "from scipy import stats\n",
    "import matplotlib.pyplot as plt\n",
    "import numpy as np\n",
    "import pandas as pd\n",
    "import seaborn as sns\n",
    "import scipy\n",
    "\n",
    "\n",
    "class Sample(object):\n",
    "    \n",
    "    # Class Object Attributes\n",
    "    \n",
    "    # initializer (constructor)\n",
    "    def __init__(self, data, population_mean=None, population_sigma=None):\n",
    "        self.data = data     # we assume that data is a list\n",
    "        self.population_mean = population_mean\n",
    "        self.population_sigma = population_sigma\n",
    "    # deconstructer\n",
    "    def __del__(self):\n",
    "        pass\n",
    "    \n",
    "    def merge_two_data(self, other_data):\n",
    "        for item in other_data:\n",
    "            (self.data).append(item)\n",
    "    \n",
    "    def set_data(self, new_data):\n",
    "        self.data = new_data\n",
    "        \n",
    "    def get_data(self):\n",
    "        return self.data\n",
    "    \n",
    "    def set_population_mean(self, new_population_mean):\n",
    "        self.population_mean = new_population_mean\n",
    "        \n",
    "    def get_population_mean(self):\n",
    "        return self.population_mean\n",
    "    \n",
    "    def set_population_sigma(self, new_population_sigma):\n",
    "        self.population_sigma = new_population_sigma\n",
    "        \n",
    "    def get_population_sigma(self):\n",
    "        return self.population_sigma\n",
    "    \n",
    "    def length(self):\n",
    "        return len(self.data)\n",
    "    \n",
    "    def sample_mean(self):\n",
    "        temp = 0.0\n",
    "        for item in self.data:\n",
    "            temp = temp + item\n",
    "        temp = (1.0*temp)/(self.length())\n",
    "        return temp\n",
    "    \n",
    "    def sample_variance(self):\n",
    "        temp = 0.0\n",
    "        Xbar = self.sample_mean()\n",
    "        for X in self.data:\n",
    "            temp = temp + (X - Xbar)**2\n",
    "        temp = (1.0*temp)/(self.length()-1)\n",
    "        return temp\n",
    "    \n",
    "    def confidence_interval_for_variance_lower(self, CL=0.95):\n",
    "        temp = 0.0\n",
    "        alpha = (1.0-CL)\n",
    "        alpha_half = alpha/2\n",
    "        percentile_chiSquared_lower = stats.chi2.ppf(q=1-alpha_half, df=self.length()-1, loc=0, scale=1)\n",
    "        temp = (self.length()-1)*(self.sample_variance())/(self.population_sigma**2)\n",
    "        lower_interval = temp/(percentile_chiSquared_lower)\n",
    "        return lower_interval\n",
    "\n",
    "    def confidence_interval_for_variance_upper(self, CL=0.95):\n",
    "        temp = 0.0\n",
    "        alpha = (1.0-CL)\n",
    "        alpha_half = alpha/2\n",
    "        percentile_chiSquared_upper = stats.chi2.ppf(q=alpha_half, df=self.length()-1, loc=0, scale=1)\n",
    "        temp = (self.length()-1)*(self.sample_variance())/(self.population_sigma**2)\n",
    "        upper_interval = temp/(percentile_chiSquared_upper)\n",
    "        return upper_interval\n",
    "    \n",
    "    def print_confidence_interval_for_variance(self, CL=0.95):\n",
    "        print(\"Confidence interval for population variance in \"+str(CL)+\" CL: \")\n",
    "        print(\"[\"+str(self.confidence_interval_for_variance_lower(CL))+\" , \"+str(self.confidence_interval_for_variance_upper(CL))+\"]\")\n",
    "        \n",
    "    def likelihood_for_SampleVariance_in_gamma_distribution_model(self, sigma):\n",
    "        y = 1\n",
    "        n = self.length()\n",
    "        alpha = (n-1.0)/(2.0)\n",
    "        beta = 2*(sigma**2)\n",
    "        y = y*stats.gamma.pdf(self.sample_variance(), a=alpha, loc=beta)             \n",
    "        return y*(1.0/(n-1.0))\n"
   ]
  },
  {
   "cell_type": "code",
   "execution_count": 20,
   "metadata": {},
   "outputs": [
    {
     "name": "stdout",
     "output_type": "stream",
     "text": [
      "mean of Sample means :0    0.042556\n",
      "dtype: float64\n",
      "variance of Sample means: 0    9.922787\n",
      "dtype: float64\n",
      "standard deviation of Sample means: 0    3.150046\n",
      "dtype: float64\n",
      "mean of Sample Variances :0    99.765027\n",
      "dtype: float64\n",
      "variance of Sample Variances: 0    2215.302413\n",
      "dtype: float64\n",
      "Standard deviation of Sample Variances: 0    47.066999\n",
      "dtype: float64\n"
     ]
    },
    {
     "data": {
      "image/png": "[encoded data removed]",
      "text/plain": [
       "<matplotlib.figure.Figure at 0x7f46935cf650>"
      ]
     },
     "metadata": {},
     "output_type": "display_data"
    }
   ],
   "source": [
    "fig = plt.figure(figsize=(12,8))\n",
    "ax = fig.add_subplot(111)\n",
    "\n",
    "sample_means_data=[]\n",
    "sample_variances_data=[]\n",
    "sample_variances_likelihoods_data=[]\n",
    "import pandas as pd\n",
    "import seaborn as sns\n",
    "for i in xrange(1,10000):\n",
    "    new = Sample(np.random.normal(loc=0, scale=10, size=10),population_sigma=1)\n",
    "    sample_means_data.append(new.sample_mean())\n",
    "    sample_variances_data.append(new.sample_variance())\n",
    "    sample_variances_likelihoods_data.append(new.likelihood_for_SampleVariance_in_gamma_distribution_model)\n",
    "    \n",
    "sns.distplot(sample_means_data)\n",
    "df = pd.DataFrame(sample_means_data)\n",
    "df2 = pd.DataFrame(sample_variances_data)\n",
    "print(\"mean of Sample means :\"+str(df.mean()))\n",
    "print(\"variance of Sample means: \"+str(df.var()))\n",
    "print(\"standard deviation of Sample means: \"+str(df.std()))\n",
    "sns.distplot(sample_variances_data)\n",
    "print(\"mean of Sample Variances :\"+str(df2.mean()))\n",
    "print(\"variance of Sample Variances: \"+str(df2.var()))\n",
    "print(\"Standard deviation of Sample Variances: \"+str(df2.std()))"
   ]
  },
  {
   "cell_type": "code",
   "execution_count": 397,
   "metadata": {},
   "outputs": [
    {
     "data": {
      "text/plain": [
       "0.0"
      ]
     },
     "execution_count": 397,
     "metadata": {},
     "output_type": "execute_result"
    }
   ],
   "source": [
    "lh = 1\n",
    "#sample_variances_likelihoods_data[1](0.1)\n",
    "def likelihood(z):\n",
    "    lh=1\n",
    "    for item in range(0,len(sample_variances_likelihoods_data)):\n",
    "        lh = lh*(sample_variances_likelihoods_data[item](z))\n",
    "    return lh\n",
    "\n",
    "likelihood(4.5)"
   ]
  },
  {
   "cell_type": "code",
   "execution_count": 378,
   "metadata": {},
   "outputs": [
    {
     "data": {
      "text/plain": [
       "0.0"
      ]
     },
     "execution_count": 378,
     "metadata": {},
     "output_type": "execute_result"
    }
   ],
   "source": [
    "sample_variances_likelihoods_data"
   ]
  },
  {
   "cell_type": "code",
   "execution_count": 3,
   "metadata": {},
   "outputs": [
    {
     "ename": "NameError",
     "evalue": "name 'likelihood' is not defined",
     "output_type": "error",
     "traceback": [
      "\u001b[0;31m---------------------------------------------------------------------------\u001b[0m",
      "\u001b[0;31mNameError\u001b[0m                                 Traceback (most recent call last)",
      "\u001b[0;32m<ipython-input-3-9ed07fa08c20>\u001b[0m in \u001b[0;36m<module>\u001b[0;34m()\u001b[0m\n\u001b[1;32m      7\u001b[0m \u001b[0;32mfor\u001b[0m \u001b[0mi\u001b[0m \u001b[0;32min\u001b[0m \u001b[0mxrange\u001b[0m\u001b[0;34m(\u001b[0m\u001b[0;36m0\u001b[0m\u001b[0;34m,\u001b[0m\u001b[0;36m100\u001b[0m\u001b[0;34m)\u001b[0m\u001b[0;34m:\u001b[0m\u001b[0;34m\u001b[0m\u001b[0m\n\u001b[1;32m      8\u001b[0m     \u001b[0mx_points\u001b[0m\u001b[0;34m.\u001b[0m\u001b[0mappend\u001b[0m\u001b[0;34m(\u001b[0m\u001b[0mi\u001b[0m\u001b[0;34m*\u001b[0m\u001b[0;36m0.2\u001b[0m\u001b[0;34m)\u001b[0m\u001b[0;34m\u001b[0m\u001b[0m\n\u001b[0;32m----> 9\u001b[0;31m     \u001b[0my_points\u001b[0m\u001b[0;34m.\u001b[0m\u001b[0mappend\u001b[0m\u001b[0;34m(\u001b[0m\u001b[0mlikelihood\u001b[0m\u001b[0;34m(\u001b[0m\u001b[0mi\u001b[0m\u001b[0;34m*\u001b[0m\u001b[0;36m0.2\u001b[0m\u001b[0;34m)\u001b[0m\u001b[0;34m)\u001b[0m\u001b[0;34m\u001b[0m\u001b[0m\n\u001b[0m\u001b[1;32m     10\u001b[0m \u001b[0;34m\u001b[0m\u001b[0m\n\u001b[1;32m     11\u001b[0m \u001b[0mp\u001b[0m \u001b[0;34m=\u001b[0m \u001b[0max\u001b[0m\u001b[0;34m.\u001b[0m\u001b[0mplot\u001b[0m\u001b[0;34m(\u001b[0m\u001b[0mx_points\u001b[0m\u001b[0;34m,\u001b[0m \u001b[0my_points\u001b[0m\u001b[0;34m,\u001b[0m \u001b[0;34m'b'\u001b[0m\u001b[0;34m)\u001b[0m\u001b[0;34m\u001b[0m\u001b[0m\n",
      "\u001b[0;31mNameError\u001b[0m: name 'likelihood' is not defined"
     ]
    },
    {
     "data": {
      "image/png": "[encoded data removed]",
      "text/plain": [
       "<matplotlib.figure.Figure at 0x7f46cc3a2d10>"
      ]
     },
     "metadata": {},
     "output_type": "display_data"
    }
   ],
   "source": [
    "import matplotlib.pyplot as plt\n",
    "\n",
    "fig = plt.figure()\n",
    "ax = fig.add_subplot(111)\n",
    "x_points = []\n",
    "y_points = []\n",
    "for i in xrange(0,100):\n",
    "    x_points.append(i*0.2)\n",
    "    y_points.append(likelihood(i*0.2))\n",
    "\n",
    "p = ax.plot(x_points, y_points, 'b')\n",
    "ax.set_xlabel('sigma')\n",
    "ax.set_ylabel('likelihood')\n",
    "ax.set_title('Likelihood Plot')\n",
    "fig"
   ]
  },
  {
   "cell_type": "code",
   "execution_count": 337,
   "metadata": {},
   "outputs": [
    {
     "data": {
      "text/plain": [
       "1.827675631747244e-24"
      ]
     },
     "execution_count": 337,
     "metadata": {},
     "output_type": "execute_result"
    },
    {
     "data": {
      "image/png": "[encoded data removed]",
      "text/plain": [
       "<matplotlib.figure.Figure at 0x7f09914ad290>"
      ]
     },
     "metadata": {},
     "output_type": "display_data"
    }
   ],
   "source": [
    "new = Sample(np.random.normal(loc=0, scale=10, size=10),population_sigma=1)\n",
    "new.plot_likelihood_for_SampleVariance_in_gamma_distribution_model(-2,20,100)\n",
    "new.likelihood_for_SampleVariance_in_gamma_distribution_model(0.001)"
   ]
  },
  {
   "cell_type": "code",
   "execution_count": 206,
   "metadata": {},
   "outputs": [
    {
     "data": {
      "text/plain": [
       "3.437579690515162e-05"
      ]
     },
     "execution_count": 206,
     "metadata": {},
     "output_type": "execute_result"
    }
   ],
   "source": [
    "new.confidence_interval_for_variance_lower()"
   ]
  },
  {
   "cell_type": "code",
   "execution_count": 49,
   "metadata": {},
   "outputs": [
    {
     "data": {
      "text/plain": [
       "19.748945102603606"
      ]
     },
     "execution_count": 49,
     "metadata": {},
     "output_type": "execute_result"
    }
   ],
   "source": [
    "new.confidence_interval_for_variance_upper()"
   ]
  },
  {
   "cell_type": "code",
   "execution_count": 50,
   "metadata": {},
   "outputs": [
    {
     "name": "stdout",
     "output_type": "stream",
     "text": [
      "Confidence interval for population variance in 0.9999 CL: \n",
      "[0.050487264950613515 , 9999.749997918083]\n"
     ]
    }
   ],
   "source": [
    "new.print_confidence_interval_for_variance(0.9999)"
   ]
  },
  {
   "cell_type": "code",
   "execution_count": 154,
   "metadata": {},
   "outputs": [
    {
     "ename": "AttributeError",
     "evalue": "'Sample' object has no attribute 'likelihood_for_NMinu1TimesSampleVariance_in_gamma_distribution_model'",
     "output_type": "error",
     "traceback": [
      "\u001b[0;31m---------------------------------------------------------------------------\u001b[0m",
      "\u001b[0;31mAttributeError\u001b[0m                            Traceback (most recent call last)",
      "\u001b[0;32m<ipython-input-154-b94690751b96>\u001b[0m in \u001b[0;36m<module>\u001b[0;34m()\u001b[0m\n\u001b[1;32m      1\u001b[0m \u001b[0;32mfor\u001b[0m \u001b[0mitem\u001b[0m \u001b[0;32min\u001b[0m \u001b[0mxrange\u001b[0m\u001b[0;34m(\u001b[0m\u001b[0;36m1\u001b[0m\u001b[0;34m,\u001b[0m\u001b[0;36m2\u001b[0m\u001b[0;34m)\u001b[0m\u001b[0;34m:\u001b[0m\u001b[0;34m\u001b[0m\u001b[0m\n\u001b[0;32m----> 2\u001b[0;31m     \u001b[0;32mprint\u001b[0m \u001b[0mnew\u001b[0m\u001b[0;34m.\u001b[0m\u001b[0mlikelihood_for_NMinu1TimesSampleVariance_in_gamma_distribution_model\u001b[0m\u001b[0;34m(\u001b[0m\u001b[0;36m0.01\u001b[0m\u001b[0;34m*\u001b[0m\u001b[0mitem\u001b[0m\u001b[0;34m)\u001b[0m\u001b[0;34m\u001b[0m\u001b[0m\n\u001b[0m",
      "\u001b[0;31mAttributeError\u001b[0m: 'Sample' object has no attribute 'likelihood_for_NMinu1TimesSampleVariance_in_gamma_distribution_model'"
     ]
    }
   ],
   "source": [
    "for item in xrange(1,2):\n",
    "    print new.likelihood_for_NMinu1TimesSampleVariance_in_gamma_distribution_model(0.01*item)"
   ]
  },
  {
   "cell_type": "code",
   "execution_count": 155,
   "metadata": {},
   "outputs": [
    {
     "data": {
      "text/plain": [
       "100"
      ]
     },
     "execution_count": 155,
     "metadata": {},
     "output_type": "execute_result"
    }
   ],
   "source": [
    "new.length()"
   ]
  },
  {
   "cell_type": "code",
   "execution_count": 160,
   "metadata": {},
   "outputs": [
    {
     "data": {
      "text/plain": [
       "0.21109462758350334"
      ]
     },
     "execution_count": 160,
     "metadata": {},
     "output_type": "execute_result"
    }
   ],
   "source": [
    "new.sample_mean()"
   ]
  },
  {
   "cell_type": "code",
   "execution_count": 161,
   "metadata": {},
   "outputs": [
    {
     "data": {
      "text/plain": [
       "0.4209951863782046"
      ]
     },
     "execution_count": 161,
     "metadata": {},
     "output_type": "execute_result"
    }
   ],
   "source": [
    "new.sample_variance()"
   ]
  },
  {
   "cell_type": "code",
   "execution_count": 226,
   "metadata": {},
   "outputs": [
    {
     "data": {
      "text/plain": [
       "[1, 2, 3, 1, 1, 2, 1, 3, 1, 2, 3, 1, 1, 1, 1, 0, 6, 10]"
      ]
     },
     "execution_count": 226,
     "metadata": {},
     "output_type": "execute_result"
    }
   ],
   "source": [
    "new.get_data()"
   ]
  },
  {
   "cell_type": "code",
   "execution_count": 227,
   "metadata": {},
   "outputs": [],
   "source": [
    "new.merge_two_data([5,6,9])"
   ]
  },
  {
   "cell_type": "code",
   "execution_count": 205,
   "metadata": {},
   "outputs": [
    {
     "data": {
      "text/plain": [
       "[1, 2, 3, 1, 1, 2, 1, 3, 1, 2, 3, 1, 1, 1, 1, 0, 6, 10, 5, 6, 9]"
      ]
     },
     "execution_count": 205,
     "metadata": {},
     "output_type": "execute_result"
    }
   ],
   "source": [
    "new.get_data()"
   ]
  },
  {
   "cell_type": "code",
   "execution_count": 147,
   "metadata": {},
   "outputs": [
    {
     "ename": "NameError",
     "evalue": "name 'new' is not defined",
     "output_type": "error",
     "traceback": [
      "\u001b[0;31m---------------------------------------------------------------------------\u001b[0m",
      "\u001b[0;31mNameError\u001b[0m                                 Traceback (most recent call last)",
      "\u001b[0;32m<ipython-input-147-ddcab021b5fe>\u001b[0m in \u001b[0;36m<module>\u001b[0;34m()\u001b[0m\n\u001b[0;32m----> 1\u001b[0;31m \u001b[0;32mdel\u001b[0m \u001b[0mnew\u001b[0m\u001b[0;34m\u001b[0m\u001b[0m\n\u001b[0m",
      "\u001b[0;31mNameError\u001b[0m: name 'new' is not defined"
     ]
    }
   ],
   "source": [
    "del new"
   ]
  },
  {
   "cell_type": "code",
   "execution_count": 192,
   "metadata": {},
   "outputs": [],
   "source": [
    "alpha = 5.5\n",
    "beta = 3\n",
    "x=xrange(1,100)\n",
    "y1 = stats.gamma.pdf(15, a=alpha, loc=beta)"
   ]
  },
  {
   "cell_type": "code",
   "execution_count": 193,
   "metadata": {},
   "outputs": [
    {
     "data": {
      "text/plain": [
       "0.008431892438809077"
      ]
     },
     "execution_count": 193,
     "metadata": {},
     "output_type": "execute_result"
    }
   ],
   "source": [
    "y1"
   ]
  },
  {
   "cell_type": "code",
   "execution_count": 280,
   "metadata": {},
   "outputs": [
    {
     "ename": "SyntaxError",
     "evalue": "invalid syntax (<ipython-input-280-eb35785f49f8>, line 1)",
     "output_type": "error",
     "traceback": [
      "\u001b[0;36m  File \u001b[0;32m\"<ipython-input-280-eb35785f49f8>\"\u001b[0;36m, line \u001b[0;32m1\u001b[0m\n\u001b[0;31m    1:10\u001b[0m\n\u001b[0m     ^\u001b[0m\n\u001b[0;31mSyntaxError\u001b[0m\u001b[0;31m:\u001b[0m invalid syntax\n"
     ]
    }
   ],
   "source": [
    "range()"
   ]
  },
  {
   "cell_type": "code",
   "execution_count": null,
   "metadata": {},
   "outputs": [],
   "source": []
  }
 ],
 "metadata": {
  "kernelspec": {
   "display_name": "Python 2",
   "language": "python",
   "name": "python2"
  },
  "language_info": {
   "codemirror_mode": {
    "name": "ipython",
    "version": 2
   },
   "file_extension": ".py",
   "mimetype": "text/x-python",
   "name": "python",
   "nbconvert_exporter": "python",
   "pygments_lexer": "ipython2",
   "version": "2.7.15"
  }
 },
 "nbformat": 4,
 "nbformat_minor": 2
}
